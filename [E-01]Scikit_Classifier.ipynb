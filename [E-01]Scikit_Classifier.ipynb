{
 "cells": [
  {
   "cell_type": "markdown",
   "metadata": {},
   "source": [
    "# 😡손글씨, 와인, 유방암 데이터 사용해서 학습하기"
   ]
  },
  {
   "cell_type": "markdown",
   "metadata": {},
   "source": [
    "필요한 모듈들을 `import`한다"
   ]
  },
  {
   "cell_type": "code",
   "execution_count": 45,
   "metadata": {},
   "outputs": [],
   "source": [
    "import numpy as np\n",
    "import matplotlib.pyplot as plt\n",
    "# load_data 함수 import\n",
    "from sklearn.datasets import load_iris, load_digits, load_wine, load_breast_cancer\n",
    "# estimator 5개 import\n",
    "from sklearn.model_selection import train_test_split\n",
    "from sklearn.tree import DecisionTreeClassifier\n",
    "from sklearn.ensemble import RandomForestClassifier\n",
    "from sklearn.svm import SVC\n",
    "from sklearn.linear_model import SGDClassifier, LogisticRegression\n",
    "# metrics 함수들 import\n",
    "from sklearn.metrics import classification_report\n",
    "from sklearn.metrics import confusion_matrix\n",
    "from sklearn.metrics import accuracy_score"
   ]
  },
  {
   "cell_type": "markdown",
   "metadata": {},
   "source": [
    "## 각 데이터의 feature 분석"
   ]
  },
  {
   "cell_type": "markdown",
   "metadata": {},
   "source": [
    "### 🔢digit"
   ]
  },
  {
   "cell_type": "markdown",
   "metadata": {},
   "source": [
    "숫자, 와인, 유방암 데이터가 각각 어떤 attribute 와 method 를 가지고 있는지 `dir()`함수를 사용하여 확인한다."
   ]
  },
  {
   "cell_type": "code",
   "execution_count": 46,
   "metadata": {},
   "outputs": [
    {
     "name": "stdout",
     "output_type": "stream",
     "text": [
      "['DESCR', 'data', 'feature_names', 'frame', 'images', 'target', 'target_names']\n",
      "['DESCR', 'data', 'feature_names', 'frame', 'target', 'target_names']\n",
      "['DESCR', 'data', 'data_module', 'feature_names', 'filename', 'frame', 'target', 'target_names']\n"
     ]
    }
   ],
   "source": [
    "digit = load_digits()\n",
    "print(dir(digit))\n",
    "\n",
    "wine = load_wine()\n",
    "print(dir(wine))\n",
    "\n",
    "cancer = load_breast_cancer()\n",
    "print(dir(cancer))"
   ]
  },
  {
   "cell_type": "markdown",
   "metadata": {},
   "source": [
    "각 데이터가 어떤 shape를 가지고 있는지 확인해보자  \n",
    "digit은 1797 개의 손글씨 데이터이고 각각의 데이터는 8 * 8 2차원 array로 이루어져 있다"
   ]
  },
  {
   "cell_type": "code",
   "execution_count": 47,
   "metadata": {},
   "outputs": [
    {
     "name": "stdout",
     "output_type": "stream",
     "text": [
      "(1797, 64)\n"
     ]
    },
    {
     "data": {
      "image/png": "[encoded data removed]",
      "text/plain": [
       "<Figure size 432x288 with 1 Axes>"
      ]
     },
     "metadata": {
      "needs_background": "light"
     },
     "output_type": "display_data"
    }
   ],
   "source": [
    "print(digit.data.shape)\n",
    "plt.imshow(digit.data[0].reshape(8,8), cmap='gray')\n",
    "plt.axis('off')\n",
    "plt.show()"
   ]
  },
  {
   "cell_type": "markdown",
   "metadata": {},
   "source": [
    "`target_names` 속성을 확인하면 각 라벨이 0 ~ 9 의 손글씨를 나타내는 것을 알 수있다"
   ]
  },
  {
   "cell_type": "code",
   "execution_count": 48,
   "metadata": {},
   "outputs": [
    {
     "data": {
      "text/plain": [
       "array([0, 1, 2, 3, 4, 5, 6, 7, 8, 9])"
      ]
     },
     "execution_count": 48,
     "metadata": {},
     "output_type": "execute_result"
    }
   ],
   "source": [
    "digit.target_names"
   ]
  },
  {
   "cell_type": "markdown",
   "metadata": {},
   "source": [
    "target도 data의 개수와 똑같은 1797개가 1차원 array로 들어가있다."
   ]
  },
  {
   "cell_type": "code",
   "execution_count": 49,
   "metadata": {},
   "outputs": [
    {
     "name": "stdout",
     "output_type": "stream",
     "text": [
      "1797\n"
     ]
    },
    {
     "data": {
      "text/plain": [
       "array([0, 1, 2, 3, 4, 5, 6, 7, 8, 9])"
      ]
     },
     "execution_count": 49,
     "metadata": {},
     "output_type": "execute_result"
    }
   ],
   "source": [
    "print(len(digit.target))\n",
    "digit.target[:10]"
   ]
  },
  {
   "cell_type": "markdown",
   "metadata": {},
   "source": [
    "### 🍶wine"
   ]
  },
  {
   "cell_type": "markdown",
   "metadata": {},
   "source": [
    "wine.data의 shape을 보면, 178 개의 데이터와 13개의 feature로 이루어짐을 확인할 수 있다."
   ]
  },
  {
   "cell_type": "code",
   "execution_count": 50,
   "metadata": {},
   "outputs": [
    {
     "data": {
      "text/plain": [
       "(178, 13)"
      ]
     },
     "execution_count": 50,
     "metadata": {},
     "output_type": "execute_result"
    }
   ],
   "source": [
    "wine.data.shape"
   ]
  },
  {
   "cell_type": "markdown",
   "metadata": {},
   "source": [
    "`wine.feature_names` 으로 feature의 이름을 확인한다."
   ]
  },
  {
   "cell_type": "code",
   "execution_count": 51,
   "metadata": {},
   "outputs": [
    {
     "data": {
      "text/plain": [
       "['alcohol',\n",
       " 'malic_acid',\n",
       " 'ash',\n",
       " 'alcalinity_of_ash',\n",
       " 'magnesium',\n",
       " 'total_phenols',\n",
       " 'flavanoids',\n",
       " 'nonflavanoid_phenols',\n",
       " 'proanthocyanins',\n",
       " 'color_intensity',\n",
       " 'hue',\n",
       " 'od280/od315_of_diluted_wines',\n",
       " 'proline']"
      ]
     },
     "execution_count": 51,
     "metadata": {},
     "output_type": "execute_result"
    }
   ],
   "source": [
    "wine.feature_names"
   ]
  },
  {
   "cell_type": "markdown",
   "metadata": {},
   "source": [
    "`wine.target_names` 으로 label의 이름을 확인한다."
   ]
  },
  {
   "cell_type": "code",
   "execution_count": 52,
   "metadata": {},
   "outputs": [
    {
     "data": {
      "text/plain": [
       "array(['class_0', 'class_1', 'class_2'], dtype='<U7')"
      ]
     },
     "execution_count": 52,
     "metadata": {},
     "output_type": "execute_result"
    }
   ],
   "source": [
    "wine.target_names"
   ]
  },
  {
   "cell_type": "markdown",
   "metadata": {},
   "source": [
    "라벨의 개수도 데이터의 개수와 같은 178 이고 0, 1, 2 로 이루어져 있다"
   ]
  },
  {
   "cell_type": "code",
   "execution_count": 53,
   "metadata": {},
   "outputs": [
    {
     "name": "stdout",
     "output_type": "stream",
     "text": [
      "178\n"
     ]
    },
    {
     "data": {
      "text/plain": [
       "array([0, 0, 0, 0, 0, 0, 0, 0, 0, 0, 0, 0, 0, 0, 0, 0, 0, 0, 0, 0, 0, 0,\n",
       "       0, 0, 0, 0, 0, 0, 0, 0, 0, 0, 0, 0, 0, 0, 0, 0, 0, 0, 0, 0, 0, 0,\n",
       "       0, 0, 0, 0, 0, 0, 0, 0, 0, 0, 0, 0, 0, 0, 0, 1, 1, 1, 1, 1, 1, 1,\n",
       "       1, 1, 1, 1, 1, 1, 1, 1, 1, 1, 1, 1, 1, 1, 1, 1, 1, 1, 1, 1, 1, 1,\n",
       "       1, 1, 1, 1, 1, 1, 1, 1, 1, 1, 1, 1, 1, 1, 1, 1, 1, 1, 1, 1, 1, 1,\n",
       "       1, 1, 1, 1, 1, 1, 1, 1, 1, 1, 1, 1, 1, 1, 1, 1, 1, 1, 1, 1, 2, 2,\n",
       "       2, 2, 2, 2, 2, 2, 2, 2, 2, 2, 2, 2, 2, 2, 2, 2, 2, 2, 2, 2, 2, 2,\n",
       "       2, 2, 2, 2, 2, 2, 2, 2, 2, 2, 2, 2, 2, 2, 2, 2, 2, 2, 2, 2, 2, 2,\n",
       "       2, 2])"
      ]
     },
     "execution_count": 53,
     "metadata": {},
     "output_type": "execute_result"
    }
   ],
   "source": [
    "print(len(wine.target))\n",
    "wine.target"
   ]
  },
  {
   "cell_type": "markdown",
   "metadata": {},
   "source": [
    "### breast_cancer"
   ]
  },
  {
   "cell_type": "markdown",
   "metadata": {},
   "source": [
    "유방암 데이터의 shape을 보면 569개의 데이터와 30개의 feature로 이루어져 있다"
   ]
  },
  {
   "cell_type": "code",
   "execution_count": 54,
   "metadata": {},
   "outputs": [
    {
     "name": "stdout",
     "output_type": "stream",
     "text": [
      "(569, 30)\n"
     ]
    },
    {
     "data": {
      "text/plain": [
       "array([1.799e+01, 1.038e+01, 1.228e+02, 1.001e+03, 1.184e-01, 2.776e-01,\n",
       "       3.001e-01, 1.471e-01, 2.419e-01, 7.871e-02, 1.095e+00, 9.053e-01,\n",
       "       8.589e+00, 1.534e+02, 6.399e-03, 4.904e-02, 5.373e-02, 1.587e-02,\n",
       "       3.003e-02, 6.193e-03, 2.538e+01, 1.733e+01, 1.846e+02, 2.019e+03,\n",
       "       1.622e-01, 6.656e-01, 7.119e-01, 2.654e-01, 4.601e-01, 1.189e-01])"
      ]
     },
     "execution_count": 54,
     "metadata": {},
     "output_type": "execute_result"
    }
   ],
   "source": [
    "print(cancer.data.shape)\n",
    "cancer.data[0]"
   ]
  },
  {
   "cell_type": "markdown",
   "metadata": {},
   "source": [
    "`cancer.feature_names` 속성을 확인해 보면 각 feature가 무엇을 의미하는지 알려준다"
   ]
  },
  {
   "cell_type": "code",
   "execution_count": 55,
   "metadata": {},
   "outputs": [
    {
     "data": {
      "text/plain": [
       "array(['mean radius', 'mean texture', 'mean perimeter', 'mean area',\n",
       "       'mean smoothness', 'mean compactness', 'mean concavity',\n",
       "       'mean concave points', 'mean symmetry', 'mean fractal dimension',\n",
       "       'radius error', 'texture error', 'perimeter error', 'area error',\n",
       "       'smoothness error', 'compactness error', 'concavity error',\n",
       "       'concave points error', 'symmetry error',\n",
       "       'fractal dimension error', 'worst radius', 'worst texture',\n",
       "       'worst perimeter', 'worst area', 'worst smoothness',\n",
       "       'worst compactness', 'worst concavity', 'worst concave points',\n",
       "       'worst symmetry', 'worst fractal dimension'], dtype='<U23')"
      ]
     },
     "execution_count": 55,
     "metadata": {},
     "output_type": "execute_result"
    }
   ],
   "source": [
    "cancer.feature_names"
   ]
  },
  {
   "cell_type": "markdown",
   "metadata": {},
   "source": [
    "데이터의 타겟의 이름은 malignant, benign 각각 악성과 양성을 의미한다"
   ]
  },
  {
   "cell_type": "code",
   "execution_count": 56,
   "metadata": {},
   "outputs": [
    {
     "data": {
      "text/plain": [
       "array(['malignant', 'benign'], dtype='<U9')"
      ]
     },
     "execution_count": 56,
     "metadata": {},
     "output_type": "execute_result"
    }
   ],
   "source": [
    "cancer.target_names"
   ]
  },
  {
   "cell_type": "markdown",
   "metadata": {},
   "source": [
    "데이터와 마찬가지로 라벨도 569개의 성분을 가지는 1차원 array이다"
   ]
  },
  {
   "cell_type": "code",
   "execution_count": 57,
   "metadata": {},
   "outputs": [
    {
     "data": {
      "text/plain": [
       "(569,)"
      ]
     },
     "execution_count": 57,
     "metadata": {},
     "output_type": "execute_result"
    }
   ],
   "source": [
    "cancer.target.shape"
   ]
  },
  {
   "cell_type": "markdown",
   "metadata": {},
   "source": [
    "## 데이터 별 모델 학습 및 테스트"
   ]
  },
  {
   "cell_type": "markdown",
   "metadata": {},
   "source": [
    "<span style=\"color: red\">`check_point`</span>  함수는 인자로 load_data 함수와 `train_test_split`함수에서 사용될 test_size  와 random_state 세 개의 인자를 가진다"
   ]
  },
  {
   "cell_type": "code",
   "execution_count": 58,
   "metadata": {},
   "outputs": [],
   "source": [
    "def check_point(ld_fc, test_size = 0.2, random_state=7, Metrics='accuracy'):\n",
    "    \"\"\"\n",
    "    data 와 label 에 데이터의 data, target 속성을 할당하고 이것들을 이용해 train, test set\n",
    "    을 구분하고 fit_fc 안에 있는 5개의 estimator를 사용해서 학습을 진행하고 그 결과를 \n",
    "    recall, accuracy 리스트에 저장하여 확인할 수 있는 함수입니다.\n",
    "    또한 평가 지표로 accuracy를 사용할 것인지 recall을 사용할 것인지를 Metrics 에 할당하여 \n",
    "    값을 확인할 수 있습니다.\n",
    "    \"\"\"\n",
    "    data = ld_fc().data\n",
    "    label = ld_fc().target\n",
    "    \n",
    "    X_train, X_test, y_train, y_test = train_test_split(data,\n",
    "     label,\n",
    "      test_size=test_size,\n",
    "      random_state=random_state)\n",
    "\n",
    "    fit_fc = [DecisionTreeClassifier,\n",
    "     RandomForestClassifier,\n",
    "      SVC,\n",
    "       SGDClassifier,\n",
    "        LogisticRegression]    \n",
    "        \n",
    "    metrics = []\n",
    "    \n",
    "    for i, fc in enumerate(fit_fc):\n",
    "        model = fc(random_state = random_state)\n",
    "        model.fit(X_train, y_train)\n",
    "        y_pred = model.predict(X_test)\n",
    "        c_m = confusion_matrix(y_test, y_pred)\n",
    "        if Metrics == 'accuracy':\n",
    "            metrics.append(np.trace(c_m) / np.sum(c_m))\n",
    "        elif Metrics == 'recall':\n",
    "            metrics.append(c_m[0][0] / (c_m[0][0] + c_m[1][0]))\n",
    "        else:\n",
    "            raise ValueError(\"wrong metrics\")\n",
    "        print(i + 1, \"th\", Metrics, \"is\", metrics[i])\n",
    "\n",
    "\n",
    "    return metrics\n",
    "    \n",
    "    "
   ]
  },
  {
   "cell_type": "markdown",
   "metadata": {},
   "source": [
    "손글씨, 와인 분류 문제는 각 데이터를 제대로 분류하는 성능인 accuracy가 중요한 지표이다. 따라서 accuracy를 사용한다."
   ]
  },
  {
   "cell_type": "code",
   "execution_count": 59,
   "metadata": {},
   "outputs": [
    {
     "name": "stdout",
     "output_type": "stream",
     "text": [
      "1 th accuracy is 0.8666666666666667\n",
      "2 th accuracy is 0.9944444444444445\n",
      "3 th accuracy is 0.9888888888888889\n",
      "4 th accuracy is 0.95\n",
      "5 th accuracy is 0.9833333333333333\n"
     ]
    },
    {
     "data": {
      "text/plain": [
       "[0.8666666666666667,\n",
       " 0.9944444444444445,\n",
       " 0.9888888888888889,\n",
       " 0.95,\n",
       " 0.9833333333333333]"
      ]
     },
     "execution_count": 59,
     "metadata": {},
     "output_type": "execute_result"
    }
   ],
   "source": [
    "import warnings\n",
    "warnings.filterwarnings(\"ignore\")\n",
    "check_point(load_digits, test_size=.1, random_state=22, Metrics='accuracy')"
   ]
  },
  {
   "cell_type": "code",
   "execution_count": 60,
   "metadata": {},
   "outputs": [
    {
     "name": "stdout",
     "output_type": "stream",
     "text": [
      "1 th accuracy is 0.9444444444444444\n",
      "2 th accuracy is 1.0\n",
      "3 th accuracy is 0.6944444444444444\n",
      "4 th accuracy is 0.75\n",
      "5 th accuracy is 0.9166666666666666\n"
     ]
    },
    {
     "data": {
      "text/plain": [
       "[0.9444444444444444, 1.0, 0.6944444444444444, 0.75, 0.9166666666666666]"
      ]
     },
     "execution_count": 60,
     "metadata": {},
     "output_type": "execute_result"
    }
   ],
   "source": [
    "check_point(load_wine, test_size=.2, random_state=2, Metrics='accuracy')"
   ]
  },
  {
   "cell_type": "markdown",
   "metadata": {},
   "source": [
    "[confusion_matrix](https://scikit-learn.org/stable/modules/generated/sklearn.metrics.confusion_matrix.html)\n",
    "\n",
    "위 링크에 따르면 c10은 false negative  \n",
    "c01 은 false positive 이다.\n",
    "암 진단의 경우 true positive / (true positive + false negative)  \n",
    "인 recall 값이 중요하다"
   ]
  },
  {
   "cell_type": "code",
   "execution_count": 61,
   "metadata": {},
   "outputs": [
    {
     "name": "stdout",
     "output_type": "stream",
     "text": [
      "1 th recall is 0.8333333333333334\n",
      "2 th recall is 0.9024390243902439\n",
      "3 th recall is 0.9411764705882353\n",
      "4 th recall is 0.96875\n",
      "5 th recall is 0.8947368421052632\n"
     ]
    },
    {
     "data": {
      "text/plain": [
       "[0.8333333333333334,\n",
       " 0.9024390243902439,\n",
       " 0.9411764705882353,\n",
       " 0.96875,\n",
       " 0.8947368421052632]"
      ]
     },
     "execution_count": 61,
     "metadata": {},
     "output_type": "execute_result"
    }
   ],
   "source": [
    "check_point(load_breast_cancer, random_state=3, Metrics='recall')"
   ]
  },
  {
   "cell_type": "markdown",
   "metadata": {},
   "source": [
    "분석 결과, digit 손글씨 분류의 경우 random forest 모델로 분류했을 떄 accuracy가 0.994 로 가장 높았고 wine 분류도 마찬가지로 random forest 모델이 accuracy = 1.0 으로 가장 높았다. 유방암 진단은 SVC 모델이 가장 높은 recall값, 0.941 을 얻었다."
   ]
  },
  {
   "cell_type": "markdown",
   "metadata": {},
   "source": [
    "### 프로젝트 후 느낀점 \n",
    "random_state 숫자별로 모델 별 accuracy 혹은 recall 값 차이가 매우 크게 나는 것을 볼 수 있다. 이는 train, test 데이터가 충분히 모이지 않아 발생한 문제로 보인다.\n",
    "\n",
    "아이펠 과정 시작하고 첫 번째 익스노드인데 너무 재미있다. 이 재미를 잃지 않고 이후의 노드에도 신나게 코딩하자!"
   ]
  }
 ],
 "metadata": {
  "kernelspec": {
   "display_name": "Python 3.10.5 ('.aiffel': venv)",
   "language": "python",
   "name": "python3"
  },
  "language_info": {
   "codemirror_mode": {
    "name": "ipython",
    "version": 3
   },
   "file_extension": ".py",
   "mimetype": "text/x-python",
   "name": "python",
   "nbconvert_exporter": "python",
   "pygments_lexer": "ipython3",
   "version": "3.10.5"
  },
  "orig_nbformat": 4,
  "vscode": {
   "interpreter": {
    "hash": "275f48bea2c815c1cb318ffbbfa9170bfd169af5d7c3d1421153a62b758de4f7"
   }
  }
 },
 "nbformat": 4,
 "nbformat_minor": 2
}
