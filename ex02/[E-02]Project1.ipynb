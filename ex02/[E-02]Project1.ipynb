{
 "cells": [
  {
   "cell_type": "markdown",
   "metadata": {},
   "source": [
    "# 2-12 프로젝트 1: 손수 설계하는 선형회귀, 당뇨병 수치를 맞춰보자!\n",
    "## (1) 데이터 가져오기\n",
    "\n",
    "[데이터셋 설명](https://scikit-learn.org/stable/datasets/toy_dataset.html#diabetes-dataset)  \n",
    "데이터를 보면 age, sex등등 모든 feature가 우리가 아는 데이터와 형태와는 조금 다른데, 이 데이터가 TOY데이터라 평균을 0, 표준편차를 1로 조정된 모델이다."
   ]
  },
  {
   "cell_type": "code",
   "execution_count": 1,
   "metadata": {},
   "outputs": [],
   "source": [
    "from sklearn.datasets import load_diabetes\n",
    "\n",
    "diabetes = load_diabetes()\n",
    "\n"
   ]
  },
  {
   "cell_type": "markdown",
   "metadata": {},
   "source": [
    "당뇨병 데이터셋의 모양을 보아하니 데이터가 442개이고 특성이 10개임을 확인할 수 있다"
   ]
  },
  {
   "cell_type": "code",
   "execution_count": 2,
   "metadata": {},
   "outputs": [
    {
     "name": "stdout",
     "output_type": "stream",
     "text": [
      "(442, 10)\n"
     ]
    }
   ],
   "source": [
    "print(diabetes.data.shape)"
   ]
  },
  {
   "cell_type": "markdown",
   "metadata": {},
   "source": [
    "diabetes의 데이터를 df_x에, target을 df_y에 저장합니다"
   ]
  },
  {
   "cell_type": "code",
   "execution_count": 3,
   "metadata": {},
   "outputs": [],
   "source": [
    "df_x, df_y = load_diabetes(return_X_y=True)"
   ]
  },
  {
   "cell_type": "markdown",
   "metadata": {},
   "source": [
    "df_x 값이 numpy array인지 확인합니다"
   ]
  },
  {
   "cell_type": "code",
   "execution_count": 4,
   "metadata": {},
   "outputs": [
    {
     "data": {
      "text/plain": [
       "numpy.ndarray"
      ]
     },
     "execution_count": 4,
     "metadata": {},
     "output_type": "execute_result"
    }
   ],
   "source": [
    "type(df_x)"
   ]
  },
  {
   "cell_type": "markdown",
   "metadata": {},
   "source": [
    "x 와 y 데이터를 각각 train 데이터와 test 데이터로 분리해주세요"
   ]
  },
  {
   "cell_type": "code",
   "execution_count": 5,
   "metadata": {},
   "outputs": [],
   "source": [
    "from sklearn.model_selection import train_test_split\n",
    "X_train, X_test, y_train, y_test = train_test_split(df_x, df_y, test_size=0.2,\n",
    " random_state=23)"
   ]
  },
  {
   "cell_type": "markdown",
   "metadata": {},
   "source": [
    "입력 데이터 개수에 맞는 가중치 $\\mathbb{W}$ 와 $b$를 준비해주세요.\n",
    "모델 함수를 구현해주세요"
   ]
  },
  {
   "cell_type": "code",
   "execution_count": 6,
   "metadata": {},
   "outputs": [],
   "source": [
    "import numpy as np\n",
    "# 입력 특성이 10개\n",
    "W = np.random.rand(10)\n",
    "b = np.random.rand()"
   ]
  },
  {
   "cell_type": "code",
   "execution_count": 7,
   "metadata": {},
   "outputs": [],
   "source": [
    "def model(X, W, b):\n",
    "    pred = np.sum(X * W, axis=1) + b\n",
    "    return pred"
   ]
  },
  {
   "cell_type": "markdown",
   "metadata": {},
   "source": [
    "손실 함수 `loss` 정의하기"
   ]
  },
  {
   "cell_type": "code",
   "execution_count": 8,
   "metadata": {},
   "outputs": [],
   "source": [
    "def MSE(a, b):\n",
    "    mse = ((a - b) ** 2).mean()\n",
    "    return mse\n",
    "\n",
    "def loss(X, W, b, y):\n",
    "    pred = model(X, W, b)\n",
    "    L = MSE(pred, y)\n",
    "    return L"
   ]
  },
  {
   "cell_type": "code",
   "execution_count": 9,
   "metadata": {},
   "outputs": [],
   "source": [
    "def gradient(X, W, b, y):\n",
    "    N = len(W)\n",
    "\n",
    "    y_pred = model(X, W, b)\n",
    "\n",
    "    dW = 1 / N * 2 * X.T.dot(y_pred - y)\n",
    "    db = 2 * (y_pred - y).mean()\n",
    "    return dW, db"
   ]
  },
  {
   "cell_type": "markdown",
   "metadata": {},
   "source": [
    "기울기를 구하는 `gradient`함수 구현하기  \n",
    "하이퍼 파라미터인 학습률 설정하기"
   ]
  },
  {
   "cell_type": "code",
   "execution_count": 10,
   "metadata": {},
   "outputs": [
    {
     "name": "stdout",
     "output_type": "stream",
     "text": [
      "Iteration 10 : Loss 20144.2881\n",
      "Iteration 20 : Loss 15152.7786\n",
      "Iteration 30 : Loss 11762.6985\n",
      "Iteration 40 : Loss 9447.0397\n",
      "Iteration 50 : Loss 7853.5734\n",
      "Iteration 60 : Loss 6746.7328\n",
      "Iteration 70 : Loss 5968.8378\n",
      "Iteration 80 : Loss 5414.2247\n",
      "Iteration 90 : Loss 5011.9817\n",
      "Iteration 100 : Loss 4714.4272\n",
      "Iteration 110 : Loss 4489.4191\n",
      "Iteration 120 : Loss 4315.2194\n",
      "Iteration 130 : Loss 4177.0643\n",
      "Iteration 140 : Loss 4064.8726\n",
      "Iteration 150 : Loss 3971.7132\n",
      "Iteration 160 : Loss 3892.7802\n",
      "Iteration 170 : Loss 3824.7063\n",
      "Iteration 180 : Loss 3765.1020\n",
      "Iteration 190 : Loss 3712.2466\n",
      "Iteration 200 : Loss 3664.8801\n",
      "Iteration 210 : Loss 3622.0621\n",
      "Iteration 220 : Loss 3583.0771\n",
      "Iteration 230 : Loss 3547.3694\n",
      "Iteration 240 : Loss 3514.4986\n",
      "Iteration 250 : Loss 3484.1089\n",
      "Iteration 260 : Loss 3455.9081\n",
      "Iteration 270 : Loss 3429.6522\n",
      "Iteration 280 : Loss 3405.1348\n",
      "Iteration 290 : Loss 3382.1794\n",
      "Iteration 300 : Loss 3360.6334\n",
      "Iteration 310 : Loss 3340.3641\n",
      "Iteration 320 : Loss 3321.2553\n",
      "Iteration 330 : Loss 3303.2045\n",
      "Iteration 340 : Loss 3286.1212\n",
      "Iteration 350 : Loss 3269.9251\n",
      "Iteration 360 : Loss 3254.5444\n",
      "Iteration 370 : Loss 3239.9155\n",
      "Iteration 380 : Loss 3225.9809\n",
      "Iteration 390 : Loss 3212.6894\n",
      "Iteration 400 : Loss 3199.9950\n",
      "Iteration 410 : Loss 3187.8559\n",
      "Iteration 420 : Loss 3176.2347\n",
      "Iteration 430 : Loss 3165.0975\n",
      "Iteration 440 : Loss 3154.4134\n",
      "Iteration 450 : Loss 3144.1547\n",
      "Iteration 460 : Loss 3134.2957\n",
      "Iteration 470 : Loss 3124.8134\n",
      "Iteration 480 : Loss 3115.6866\n",
      "Iteration 490 : Loss 3106.8958\n",
      "Iteration 500 : Loss 3098.4233\n",
      "Iteration 510 : Loss 3090.2526\n",
      "Iteration 520 : Loss 3082.3688\n",
      "Iteration 530 : Loss 3074.7578\n",
      "Iteration 540 : Loss 3067.4067\n",
      "Iteration 550 : Loss 3060.3035\n",
      "Iteration 560 : Loss 3053.4372\n",
      "Iteration 570 : Loss 3046.7973\n",
      "Iteration 580 : Loss 3040.3740\n",
      "Iteration 590 : Loss 3034.1585\n",
      "Iteration 600 : Loss 3028.1421\n",
      "Iteration 610 : Loss 3022.3168\n",
      "Iteration 620 : Loss 3016.6752\n",
      "Iteration 630 : Loss 3011.2101\n",
      "Iteration 640 : Loss 3005.9149\n",
      "Iteration 650 : Loss 3000.7832\n",
      "Iteration 660 : Loss 2995.8090\n",
      "Iteration 670 : Loss 2990.9866\n",
      "Iteration 680 : Loss 2986.3105\n",
      "Iteration 690 : Loss 2981.7757\n",
      "Iteration 700 : Loss 2977.3772\n",
      "Iteration 710 : Loss 2973.1104\n",
      "Iteration 720 : Loss 2968.9707\n",
      "Iteration 730 : Loss 2964.9538\n",
      "Iteration 740 : Loss 2961.0557\n",
      "Iteration 750 : Loss 2957.2724\n",
      "Iteration 760 : Loss 2953.6002\n",
      "Iteration 770 : Loss 2950.0355\n",
      "Iteration 780 : Loss 2946.5747\n",
      "Iteration 790 : Loss 2943.2146\n",
      "Iteration 800 : Loss 2939.9519\n",
      "Iteration 810 : Loss 2936.7835\n",
      "Iteration 820 : Loss 2933.7065\n",
      "Iteration 830 : Loss 2930.7180\n",
      "Iteration 840 : Loss 2927.8152\n",
      "Iteration 850 : Loss 2924.9955\n",
      "Iteration 860 : Loss 2922.2563\n",
      "Iteration 870 : Loss 2919.5951\n",
      "Iteration 880 : Loss 2917.0095\n",
      "Iteration 890 : Loss 2914.4973\n",
      "Iteration 900 : Loss 2912.0561\n",
      "Iteration 910 : Loss 2909.6838\n",
      "Iteration 920 : Loss 2907.3783\n",
      "Iteration 930 : Loss 2905.1377\n",
      "Iteration 940 : Loss 2902.9599\n",
      "Iteration 950 : Loss 2900.8430\n",
      "Iteration 960 : Loss 2898.7853\n",
      "Iteration 970 : Loss 2896.7850\n",
      "Iteration 980 : Loss 2894.8403\n",
      "Iteration 990 : Loss 2892.9496\n",
      "Iteration 1000 : Loss 2891.1113\n"
     ]
    }
   ],
   "source": [
    "LEARNING_RATE = 1e-2\n",
    "losses = []\n",
    "for i in range(1, 1001):\n",
    "    dW, db = gradient(X_train, W, b, y_train)\n",
    "    W -= LEARNING_RATE * dW\n",
    "    b -= LEARNING_RATE * db\n",
    "    L = loss(X_train, W, b, y_train)\n",
    "    losses.append(L)\n",
    "    if i % 10 == 0:\n",
    "        print('Iteration %d : Loss %0.4f' % (i, L))"
   ]
  },
  {
   "cell_type": "markdown",
   "metadata": {},
   "source": [
    "learning rate를 수정해 가며 3000 이하의 loss 값을 구하였다. \n",
    "여기서 test data의 loss값을 구해보자"
   ]
  },
  {
   "cell_type": "code",
   "execution_count": 11,
   "metadata": {},
   "outputs": [
    {
     "data": {
      "text/plain": [
       "2891.111348965355"
      ]
     },
     "execution_count": 11,
     "metadata": {},
     "output_type": "execute_result"
    }
   ],
   "source": [
    "losses[-1]"
   ]
  },
  {
   "cell_type": "code",
   "execution_count": 12,
   "metadata": {},
   "outputs": [
    {
     "data": {
      "text/plain": [
       "3167.241782431873"
      ]
     },
     "execution_count": 12,
     "metadata": {},
     "output_type": "execute_result"
    }
   ],
   "source": [
    "\n",
    "loss(X_test, W, b, y_test)"
   ]
  },
  {
   "cell_type": "markdown",
   "metadata": {},
   "source": [
    "x축에는 X 데이터의 첫 번째 컬럼인 age가 정규화된 값을, y축에는 정답인 target값과 모델이 예측한 값을 넣어서 비교하였다"
   ]
  },
  {
   "cell_type": "code",
   "execution_count": 13,
   "metadata": {},
   "outputs": [
    {
     "data": {
      "text/plain": [
       "<function matplotlib.pyplot.show(close=None, block=None)>"
      ]
     },
     "execution_count": 13,
     "metadata": {},
     "output_type": "execute_result"
    },
    {
     "data": {
      "image/png": "[encoded data removed]",
      "text/plain": [
       "<Figure size 432x288 with 1 Axes>"
      ]
     },
     "metadata": {
      "needs_background": "light"
     },
     "output_type": "display_data"
    }
   ],
   "source": [
    "import matplotlib.pyplot as plt\n",
    "\n",
    "plt.scatter(X_test[:, 0], y_test, label=\"true\")\n",
    "plt.scatter(X_test[:, 0], model(X_test, W, b), label='pred')\n",
    "plt.legend()\n",
    "plt.show"
   ]
  },
  {
   "cell_type": "markdown",
   "metadata": {},
   "source": [
    "train 데이터셋도 어떻게 훈련되었는지 확인해 보았다"
   ]
  },
  {
   "cell_type": "code",
   "execution_count": 14,
   "metadata": {},
   "outputs": [
    {
     "data": {
      "text/plain": [
       "<function matplotlib.pyplot.show(close=None, block=None)>"
      ]
     },
     "execution_count": 14,
     "metadata": {},
     "output_type": "execute_result"
    },
    {
     "data": {
      "image/png": "[encoded data removed]",
      "text/plain": [
       "<Figure size 432x288 with 1 Axes>"
      ]
     },
     "metadata": {
      "needs_background": "light"
     },
     "output_type": "display_data"
    }
   ],
   "source": [
    "plt.scatter(X_train[:, 0], y_train, label=\"true\")\n",
    "plt.scatter(X_train[:, 0], model(X_train, W, b), label='pred')\n",
    "plt.legend()\n",
    "plt.show"
   ]
  },
  {
   "cell_type": "markdown",
   "metadata": {},
   "source": [
    "### 회고\n",
    "\n",
    "+ 당뇨병 수치를 예측하는 이번 플젝은 노드 앞부분과 거의 흡사해서 비교적 손쉽게 진행할 수 있었다. 데이터를 확인하였을 때 모든 데이터가 정규화가 되어있어서 매우 친절한 데이터라고 생각했다. 정규화 여부가 학습에 큰 영향을 미치는 것일지 궁금하다.. \n",
    "\n",
    "+ loss값을 3000 이하로 맞춰야 한다고 하길래 긴장했지만 learning rate를 적당히 조절한 것 만으로도 3000 이하의 값을 손쉽게 찾을 수 있었다. 변수인 column들을 골라가며 학습을 해보면 좋겠지만 공부할 내용은 계속 쌓이고 있으니 빨리 넘어가자 ㅎㅎ 아마 이후 노드에서 시도해볼 기회가 있을 것이다.\n",
    "\n",
    "+ matplotlib로 그린 그래프는 뭔가 마음에 안든다. 다음 익스는 seaborn을 이용해서 예쁘게 그려보자!"
   ]
  }
 ],
 "metadata": {
  "kernelspec": {
   "display_name": "Python 3.9.12 ('aiffel')",
   "language": "python",
   "name": "python3"
  },
  "language_info": {
   "codemirror_mode": {
    "name": "ipython",
    "version": 3
   },
   "file_extension": ".py",
   "mimetype": "text/x-python",
   "name": "python",
   "nbconvert_exporter": "python",
   "pygments_lexer": "ipython3",
   "version": "3.9.12"
  },
  "orig_nbformat": 4,
  "vscode": {
   "interpreter": {
    "hash": "d04cf1ca0acd4bcd15114718f1ef1bc97f78c22610f01c01cb598617fec2656c"
   }
  }
 },
 "nbformat": 4,
 "nbformat_minor": 2
}
