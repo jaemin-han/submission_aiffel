{
 "cells": [
  {
   "cell_type": "markdown",
   "metadata": {},
   "source": [
    "# 2-12 프로젝트 1: 손수 설계하는 선형회귀, 당뇨병 수치를 맞춰보자!\n",
    "## (1) 데이터 가져오기\n",
    "\n",
    "[데이터셋 설명](https://scikit-learn.org/stable/datasets/toy_dataset.html#diabetes-dataset)  \n",
    "데이터를 보면 age, sex등등 모든 feature가 우리가 아는 데이터와 형태와는 조금 다른데, 이 데이터가 TOY데이터라 평균을 0, 표준편차를 1로 조정된 모델이다."
   ]
  },
  {
   "cell_type": "code",
   "execution_count": 50,
   "metadata": {},
   "outputs": [],
   "source": [
    "from sklearn.datasets import load_diabetes\n",
    "\n",
    "diabetes = load_diabetes()\n",
    "\n"
   ]
  },
  {
   "cell_type": "markdown",
   "metadata": {},
   "source": [
    "당뇨병 데이터셋의 모양을 보아하니 데이터가 442개이고 특성이 10개임을 확인할 수 있다"
   ]
  },
  {
   "cell_type": "code",
   "execution_count": 51,
   "metadata": {},
   "outputs": [
    {
     "name": "stdout",
     "output_type": "stream",
     "text": [
      "(442, 10)\n"
     ]
    }
   ],
   "source": [
    "print(diabetes.data.shape)"
   ]
  },
  {
   "cell_type": "markdown",
   "metadata": {},
   "source": [
    "diabetes의 데이터를 df_x에, target을 df_y에 저장합니다"
   ]
  },
  {
   "cell_type": "code",
   "execution_count": 52,
   "metadata": {},
   "outputs": [],
   "source": [
    "df_x, df_y = load_diabetes(return_X_y=True)"
   ]
  },
  {
   "cell_type": "markdown",
   "metadata": {},
   "source": [
    "df_x 값이 numpy array인지 확인합니다"
   ]
  },
  {
   "cell_type": "code",
   "execution_count": 53,
   "metadata": {},
   "outputs": [
    {
     "data": {
      "text/plain": [
       "numpy.ndarray"
      ]
     },
     "execution_count": 53,
     "metadata": {},
     "output_type": "execute_result"
    }
   ],
   "source": [
    "type(df_x)"
   ]
  },
  {
   "cell_type": "markdown",
   "metadata": {},
   "source": [
    "x 와 y 데이터를 각각 train 데이터와 test 데이터로 분리해주세요"
   ]
  },
  {
   "cell_type": "code",
   "execution_count": 54,
   "metadata": {},
   "outputs": [],
   "source": [
    "from sklearn.model_selection import train_test_split\n",
    "X_train, X_test, y_train, y_test = train_test_split(df_x, df_y, test_size=0.2,\n",
    " random_state=23)"
   ]
  },
  {
   "cell_type": "markdown",
   "metadata": {},
   "source": [
    "입력 데이터 개수에 맞는 가중치 $\\mathbb{W}$ 와 $b$를 준비해주세요.\n",
    "모델 함수를 구현해주세요"
   ]
  },
  {
   "cell_type": "code",
   "execution_count": 55,
   "metadata": {},
   "outputs": [],
   "source": [
    "import numpy as np\n",
    "# 입력 특성이 10개\n",
    "W = np.random.rand(10)\n",
    "b = np.random.rand()"
   ]
  },
  {
   "cell_type": "code",
   "execution_count": 56,
   "metadata": {},
   "outputs": [],
   "source": [
    "def model(X, W, b):\n",
    "    pred = np.sum(X * W, axis=1) + b\n",
    "    return pred"
   ]
  },
  {
   "cell_type": "markdown",
   "metadata": {},
   "source": [
    "손실 함수 `loss` 정의하기"
   ]
  },
  {
   "cell_type": "code",
   "execution_count": 57,
   "metadata": {},
   "outputs": [],
   "source": [
    "def MSE(a, b):\n",
    "    mse = ((a - b) ** 2).mean()\n",
    "    return mse\n",
    "\n",
    "def loss(X, W, b, y):\n",
    "    pred = model(X, W, b)\n",
    "    L = MSE(pred, y)\n",
    "    return L"
   ]
  },
  {
   "cell_type": "code",
   "execution_count": 58,
   "metadata": {},
   "outputs": [],
   "source": [
    "def gradient(X, W, b, y):\n",
    "    N = len(W)\n",
    "\n",
    "    y_pred = model(X, W, b)\n",
    "\n",
    "    dW = 1 / N * 2 * X.T.dot(y_pred - y)\n",
    "    db = 2 * (y_pred - y).mean()\n",
    "    return dW, db"
   ]
  },
  {
   "cell_type": "markdown",
   "metadata": {},
   "source": [
    "기울기를 구하는 `gradient`함수 구현하기  \n",
    "하이퍼 파라미터인 학습률 설정하기"
   ]
  },
  {
   "cell_type": "code",
   "execution_count": 59,
   "metadata": {},
   "outputs": [
    {
     "name": "stdout",
     "output_type": "stream",
     "text": [
      "Iteration 10 : Loss 20138.5504\n",
      "Iteration 20 : Loss 15149.8671\n",
      "Iteration 30 : Loss 11761.5776\n",
      "Iteration 40 : Loss 9447.0293\n",
      "Iteration 50 : Loss 7854.2293\n",
      "Iteration 60 : Loss 6747.7667\n",
      "Iteration 70 : Loss 5970.0650\n",
      "Iteration 80 : Loss 5415.5282\n",
      "Iteration 90 : Loss 5013.2893\n",
      "Iteration 100 : Loss 4715.6959\n",
      "Iteration 110 : Loss 4490.6246\n",
      "Iteration 120 : Loss 4316.3495\n",
      "Iteration 130 : Loss 4178.1144\n",
      "Iteration 140 : Loss 4065.8426\n",
      "Iteration 150 : Loss 3972.6061\n",
      "Iteration 160 : Loss 3893.6003\n",
      "Iteration 170 : Loss 3825.4586\n",
      "Iteration 180 : Loss 3765.7919\n",
      "Iteration 190 : Loss 3712.8795\n",
      "Iteration 200 : Loss 3665.4609\n",
      "Iteration 210 : Loss 3622.5956\n",
      "Iteration 220 : Loss 3583.5678\n",
      "Iteration 230 : Loss 3547.8212\n",
      "Iteration 240 : Loss 3514.9152\n",
      "Iteration 250 : Loss 3484.4936\n",
      "Iteration 260 : Loss 3456.2639\n",
      "Iteration 270 : Loss 3429.9818\n",
      "Iteration 280 : Loss 3405.4407\n",
      "Iteration 290 : Loss 3382.4636\n",
      "Iteration 300 : Loss 3360.8980\n",
      "Iteration 310 : Loss 3340.6108\n",
      "Iteration 320 : Loss 3321.4857\n",
      "Iteration 330 : Loss 3303.4200\n",
      "Iteration 340 : Loss 3286.3230\n",
      "Iteration 350 : Loss 3270.1144\n",
      "Iteration 360 : Loss 3254.7223\n",
      "Iteration 370 : Loss 3240.0828\n",
      "Iteration 380 : Loss 3226.1386\n",
      "Iteration 390 : Loss 3212.8382\n",
      "Iteration 400 : Loss 3200.1355\n",
      "Iteration 410 : Loss 3187.9889\n",
      "Iteration 420 : Loss 3176.3607\n",
      "Iteration 430 : Loss 3165.2170\n",
      "Iteration 440 : Loss 3154.5269\n",
      "Iteration 450 : Loss 3144.2625\n",
      "Iteration 460 : Loss 3134.3984\n",
      "Iteration 470 : Loss 3124.9112\n",
      "Iteration 480 : Loss 3115.7799\n",
      "Iteration 490 : Loss 3106.9849\n",
      "Iteration 500 : Loss 3098.5085\n",
      "Iteration 510 : Loss 3090.3341\n",
      "Iteration 520 : Loss 3082.4469\n",
      "Iteration 530 : Loss 3074.8326\n",
      "Iteration 540 : Loss 3067.4785\n",
      "Iteration 550 : Loss 3060.3725\n",
      "Iteration 560 : Loss 3053.5035\n",
      "Iteration 570 : Loss 3046.8611\n",
      "Iteration 580 : Loss 3040.4355\n",
      "Iteration 590 : Loss 3034.2177\n",
      "Iteration 600 : Loss 3028.1992\n",
      "Iteration 610 : Loss 3022.3720\n",
      "Iteration 620 : Loss 3016.7285\n",
      "Iteration 630 : Loss 3011.2617\n",
      "Iteration 640 : Loss 3005.9648\n",
      "Iteration 650 : Loss 3000.8315\n",
      "Iteration 660 : Loss 2995.8558\n",
      "Iteration 670 : Loss 2991.0320\n",
      "Iteration 680 : Loss 2986.3546\n",
      "Iteration 690 : Loss 2981.8186\n",
      "Iteration 700 : Loss 2977.4189\n",
      "Iteration 710 : Loss 2973.1509\n",
      "Iteration 720 : Loss 2969.0101\n",
      "Iteration 730 : Loss 2964.9922\n",
      "Iteration 740 : Loss 2961.0931\n",
      "Iteration 750 : Loss 2957.3089\n",
      "Iteration 760 : Loss 2953.6359\n",
      "Iteration 770 : Loss 2950.0703\n",
      "Iteration 780 : Loss 2946.6087\n",
      "Iteration 790 : Loss 2943.2478\n",
      "Iteration 800 : Loss 2939.9844\n",
      "Iteration 810 : Loss 2936.8154\n",
      "Iteration 820 : Loss 2933.7377\n",
      "Iteration 830 : Loss 2930.7486\n",
      "Iteration 840 : Loss 2927.8452\n",
      "Iteration 850 : Loss 2925.0249\n",
      "Iteration 860 : Loss 2922.2852\n",
      "Iteration 870 : Loss 2919.6235\n",
      "Iteration 880 : Loss 2917.0374\n",
      "Iteration 890 : Loss 2914.5246\n",
      "Iteration 900 : Loss 2912.0830\n",
      "Iteration 910 : Loss 2909.7103\n",
      "Iteration 920 : Loss 2907.4044\n",
      "Iteration 930 : Loss 2905.1634\n",
      "Iteration 940 : Loss 2902.9852\n",
      "Iteration 950 : Loss 2900.8680\n",
      "Iteration 960 : Loss 2898.8099\n",
      "Iteration 970 : Loss 2896.8092\n",
      "Iteration 980 : Loss 2894.8642\n",
      "Iteration 990 : Loss 2892.9733\n",
      "Iteration 1000 : Loss 2891.1347\n"
     ]
    }
   ],
   "source": [
    "LEARNING_RATE = 1e-2\n",
    "losses = []\n",
    "for i in range(1, 1001):\n",
    "    dW, db = gradient(X_train, W, b, y_train)\n",
    "    W -= LEARNING_RATE * dW\n",
    "    b -= LEARNING_RATE * db\n",
    "    L = loss(X_train, W, b, y_train)\n",
    "    losses.append(L)\n",
    "    if i % 10 == 0:\n",
    "        print('Iteration %d : Loss %0.4f' % (i, L))"
   ]
  },
  {
   "cell_type": "markdown",
   "metadata": {},
   "source": [
    "learning rate를 수정해 가며 3000 이하의 loss 값을 구하였다. \n",
    "여기서 test data의 loss값을 구해보자"
   ]
  },
  {
   "cell_type": "code",
   "execution_count": 68,
   "metadata": {},
   "outputs": [
    {
     "data": {
      "text/plain": [
       "2891.1346881476675"
      ]
     },
     "execution_count": 68,
     "metadata": {},
     "output_type": "execute_result"
    }
   ],
   "source": [
    "losses[-1]"
   ]
  },
  {
   "cell_type": "code",
   "execution_count": 61,
   "metadata": {},
   "outputs": [
    {
     "data": {
      "text/plain": [
       "3167.1654749944887"
      ]
     },
     "execution_count": 61,
     "metadata": {},
     "output_type": "execute_result"
    }
   ],
   "source": [
    "\n",
    "loss(X_test, W, b, y_test)"
   ]
  },
  {
   "cell_type": "markdown",
   "metadata": {},
   "source": [
    "x축에는 X 데이터의 첫 번째 컬럼인 age가 정규화된 값을, y축에는 정답인 target값과 모델이 예측한 값을 넣어서 비교하였다"
   ]
  },
  {
   "cell_type": "code",
   "execution_count": 62,
   "metadata": {},
   "outputs": [
    {
     "data": {
      "text/plain": [
       "<function matplotlib.pyplot.show(close=None, block=None)>"
      ]
     },
     "execution_count": 62,
     "metadata": {},
     "output_type": "execute_result"
    },
    {
     "data": {
      "image/png": "[encoded data removed]",
      "text/plain": [
       "<Figure size 432x288 with 1 Axes>"
      ]
     },
     "metadata": {
      "needs_background": "light"
     },
     "output_type": "display_data"
    }
   ],
   "source": [
    "import matplotlib.pyplot as plt\n",
    "\n",
    "plt.scatter(X_test[:, 0], y_test, label=\"true\")\n",
    "plt.scatter(X_test[:, 0], model(X_test, W, b), label='pred')\n",
    "plt.legend()\n",
    "plt.show"
   ]
  },
  {
   "cell_type": "markdown",
   "metadata": {},
   "source": [
    "train 데이터셋도 어떻게 훈련되었는지 확인해 보았다"
   ]
  },
  {
   "cell_type": "code",
   "execution_count": 63,
   "metadata": {},
   "outputs": [
    {
     "data": {
      "text/plain": [
       "<function matplotlib.pyplot.show(close=None, block=None)>"
      ]
     },
     "execution_count": 63,
     "metadata": {},
     "output_type": "execute_result"
    },
    {
     "data": {
      "image/png": "[encoded data removed]",
      "text/plain": [
       "<Figure size 432x288 with 1 Axes>"
      ]
     },
     "metadata": {
      "needs_background": "light"
     },
     "output_type": "display_data"
    }
   ],
   "source": [
    "plt.scatter(X_train[:, 0], y_train, label=\"true\")\n",
    "plt.scatter(X_train[:, 0], model(X_train, W, b), label='pred')\n",
    "plt.legend()\n",
    "plt.show"
   ]
  },
  {
   "cell_type": "markdown",
   "metadata": {},
   "source": [
    "### 회고\n",
    "\n",
    "+ 당뇨병 수치를 예측하는 이번 플젝은 노드 앞부분과 거의 흡사해서 비교적 손쉽게 진행할 수 있었다. 데이터를 확인하였을 때 모든 데이터가 정규화가 되어있어서 매우 친절한 데이터라고 생각했다. 정규화 여부가 학습에 큰 영향을 미치는 것일지 궁금하다.. \n",
    "\n",
    "+ loss값을 3000 이하로 맞춰야 한다고 하길래 긴장했지만 learning rate를 적당히 조절한 것 만으로도 3000 이하의 값을 손쉽게 찾을 수 있었다. 변수인 column들을 골라가며 학습을 해보면 좋겠지만 공부할 내용은 계속 쌓이고 있으니 빨리 넘어가자 ㅎㅎ 아마 이후 노드에서 시도해볼 기회가 있을 것이다.\n",
    "\n",
    "+ matplotlib로 그린 그래프는 뭔가 마음에 안든다. 다음 익스는 seaborn을 이용해서 예쁘게 그려보자!"
   ]
  }
 ],
 "metadata": {
  "kernelspec": {
   "display_name": "Python 3.9.12 ('aiffel')",
   "language": "python",
   "name": "python3"
  },
  "language_info": {
   "codemirror_mode": {
    "name": "ipython",
    "version": 3
   },
   "file_extension": ".py",
   "mimetype": "text/x-python",
   "name": "python",
   "nbconvert_exporter": "python",
   "pygments_lexer": "ipython3",
   "version": "3.9.12"
  },
  "orig_nbformat": 4,
  "vscode": {
   "interpreter": {
    "hash": "d04cf1ca0acd4bcd15114718f1ef1bc97f78c22610f01c01cb598617fec2656c"
   }
  }
 },
 "nbformat": 4,
 "nbformat_minor": 2
}
