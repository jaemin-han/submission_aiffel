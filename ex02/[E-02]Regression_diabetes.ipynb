{
 "cells": [
  {
   "cell_type": "markdown",
   "metadata": {},
   "source": [
    "# 2-12 프로젝트 1: 손수 설계하는 선형회귀, 당뇨병 수치를 맞춰보자!\n",
    "## (1) 데이터 가져오기\n",
    "\n",
    "[데이터셋 설명](https://scikit-learn.org/stable/datasets/toy_dataset.html#diabetes-dataset)  \n",
    "데이터를 보면 age, sex등등 모든 feature가 우리가 아는 데이터와 형태와는 조금 다른데, 이 데이터가 TOY데이터라 평균을 0, 표준편차를 1로 조정된 모델이다."
   ]
  },
  {
   "cell_type": "code",
   "execution_count": 1,
   "metadata": {},
   "outputs": [],
   "source": [
    "from sklearn.datasets import load_diabetes\n",
    "\n",
    "diabetes = load_diabetes()\n",
    "\n"
   ]
  },
  {
   "cell_type": "markdown",
   "metadata": {},
   "source": [
    "당뇨병 데이터셋의 모양을 보아하니 데이터가 442개이고 특성이 10개임을 확인할 수 있다"
   ]
  },
  {
   "cell_type": "code",
   "execution_count": 11,
   "metadata": {},
   "outputs": [
    {
     "name": "stdout",
     "output_type": "stream",
     "text": [
      "(442, 10)\n"
     ]
    }
   ],
   "source": [
    "print(diabetes.data.shape)"
   ]
  },
  {
   "cell_type": "markdown",
   "metadata": {},
   "source": [
    "diabetes의 데이터를 df_x에, target을 df_y에 저장합니다"
   ]
  },
  {
   "cell_type": "code",
   "execution_count": 12,
   "metadata": {},
   "outputs": [],
   "source": [
    "df_x, df_y = load_diabetes(return_X_y=True)"
   ]
  },
  {
   "cell_type": "markdown",
   "metadata": {},
   "source": [
    "df_x 값이 numpy array인지 확인합니다"
   ]
  },
  {
   "cell_type": "code",
   "execution_count": 17,
   "metadata": {},
   "outputs": [
    {
     "data": {
      "text/plain": [
       "numpy.ndarray"
      ]
     },
     "execution_count": 17,
     "metadata": {},
     "output_type": "execute_result"
    }
   ],
   "source": [
    "type(df_x)"
   ]
  },
  {
   "cell_type": "markdown",
   "metadata": {},
   "source": [
    "x 와 y 데이터를 각각 train 데이터와 test 데이터로 분리해주세요"
   ]
  },
  {
   "cell_type": "code",
   "execution_count": 18,
   "metadata": {},
   "outputs": [],
   "source": [
    "from sklearn.model_selection import train_test_split\n",
    "X_train, X_test, y_train, y_test = train_test_split(df_x, df_y, test_size=0.2,\n",
    " random_state=23)"
   ]
  },
  {
   "cell_type": "markdown",
   "metadata": {},
   "source": [
    "입력 데이터 개수에 맞는 가중치 $\\mathbb{W}$ 와 $b$를 준비해주세요.\n",
    "모델 함수를 구현해주세요"
   ]
  },
  {
   "cell_type": "code",
   "execution_count": 19,
   "metadata": {},
   "outputs": [],
   "source": [
    "import numpy as np\n",
    "# 입력 특성이 10개\n",
    "W = np.random.rand(10)\n",
    "b = np.random.rand()"
   ]
  },
  {
   "cell_type": "code",
   "execution_count": 23,
   "metadata": {},
   "outputs": [],
   "source": [
    "def model(X, W, b):\n",
    "    pred = np.sum(X * W, axis=1) + b\n",
    "    return pred"
   ]
  },
  {
   "cell_type": "markdown",
   "metadata": {},
   "source": [
    "손실 함수 `loss` 정의하기"
   ]
  },
  {
   "cell_type": "code",
   "execution_count": 25,
   "metadata": {},
   "outputs": [],
   "source": [
    "def MSE(a, b):\n",
    "    mse = ((a - b) ** 2).mean()\n",
    "    return mse\n",
    "\n",
    "def loss(X, W, b, y):\n",
    "    pred = model(X, W, b)\n",
    "    L = MSE(pred, y)\n",
    "    return L"
   ]
  },
  {
   "cell_type": "code",
   "execution_count": 30,
   "metadata": {},
   "outputs": [],
   "source": [
    "def gradient(X, W, b, y):\n",
    "    N = len(W)\n",
    "\n",
    "    y_pred = model(X, W, b)\n",
    "\n",
    "    dW = 1 / N * 2 * X.T.dot(y_pred - y)\n",
    "    db = 2 * (y_pred - y).mean()\n",
    "    return dW, db"
   ]
  },
  {
   "cell_type": "markdown",
   "metadata": {},
   "source": [
    "기울기를 구하는 `gradient`함수 구현하기  \n",
    "하이퍼 파라미터인 학습률 설정하기"
   ]
  },
  {
   "cell_type": "code",
   "execution_count": 35,
   "metadata": {},
   "outputs": [
    {
     "name": "stdout",
     "output_type": "stream",
     "text": [
      "Iteration 10 : Loss 2814.2616\n",
      "Iteration 20 : Loss 2814.2551\n",
      "Iteration 30 : Loss 2814.2485\n",
      "Iteration 40 : Loss 2814.2419\n",
      "Iteration 50 : Loss 2814.2354\n",
      "Iteration 60 : Loss 2814.2288\n",
      "Iteration 70 : Loss 2814.2223\n",
      "Iteration 80 : Loss 2814.2157\n",
      "Iteration 90 : Loss 2814.2092\n",
      "Iteration 100 : Loss 2814.2026\n",
      "Iteration 110 : Loss 2814.1961\n",
      "Iteration 120 : Loss 2814.1895\n",
      "Iteration 130 : Loss 2814.1830\n",
      "Iteration 140 : Loss 2814.1765\n",
      "Iteration 150 : Loss 2814.1699\n",
      "Iteration 160 : Loss 2814.1634\n",
      "Iteration 170 : Loss 2814.1569\n",
      "Iteration 180 : Loss 2814.1503\n",
      "Iteration 190 : Loss 2814.1438\n",
      "Iteration 200 : Loss 2814.1373\n",
      "Iteration 210 : Loss 2814.1307\n",
      "Iteration 220 : Loss 2814.1242\n",
      "Iteration 230 : Loss 2814.1177\n",
      "Iteration 240 : Loss 2814.1112\n",
      "Iteration 250 : Loss 2814.1046\n",
      "Iteration 260 : Loss 2814.0981\n",
      "Iteration 270 : Loss 2814.0916\n",
      "Iteration 280 : Loss 2814.0851\n",
      "Iteration 290 : Loss 2814.0786\n",
      "Iteration 300 : Loss 2814.0721\n",
      "Iteration 310 : Loss 2814.0656\n",
      "Iteration 320 : Loss 2814.0590\n",
      "Iteration 330 : Loss 2814.0525\n",
      "Iteration 340 : Loss 2814.0460\n",
      "Iteration 350 : Loss 2814.0395\n",
      "Iteration 360 : Loss 2814.0330\n",
      "Iteration 370 : Loss 2814.0265\n",
      "Iteration 380 : Loss 2814.0200\n",
      "Iteration 390 : Loss 2814.0135\n",
      "Iteration 400 : Loss 2814.0070\n",
      "Iteration 410 : Loss 2814.0005\n",
      "Iteration 420 : Loss 2813.9940\n",
      "Iteration 430 : Loss 2813.9876\n",
      "Iteration 440 : Loss 2813.9811\n",
      "Iteration 450 : Loss 2813.9746\n",
      "Iteration 460 : Loss 2813.9681\n",
      "Iteration 470 : Loss 2813.9616\n",
      "Iteration 480 : Loss 2813.9551\n",
      "Iteration 490 : Loss 2813.9486\n",
      "Iteration 500 : Loss 2813.9422\n",
      "Iteration 510 : Loss 2813.9357\n",
      "Iteration 520 : Loss 2813.9292\n",
      "Iteration 530 : Loss 2813.9227\n",
      "Iteration 540 : Loss 2813.9163\n",
      "Iteration 550 : Loss 2813.9098\n",
      "Iteration 560 : Loss 2813.9033\n",
      "Iteration 570 : Loss 2813.8969\n",
      "Iteration 580 : Loss 2813.8904\n",
      "Iteration 590 : Loss 2813.8839\n",
      "Iteration 600 : Loss 2813.8775\n",
      "Iteration 610 : Loss 2813.8710\n",
      "Iteration 620 : Loss 2813.8645\n",
      "Iteration 630 : Loss 2813.8581\n",
      "Iteration 640 : Loss 2813.8516\n",
      "Iteration 650 : Loss 2813.8452\n",
      "Iteration 660 : Loss 2813.8387\n",
      "Iteration 670 : Loss 2813.8323\n",
      "Iteration 680 : Loss 2813.8258\n",
      "Iteration 690 : Loss 2813.8194\n",
      "Iteration 700 : Loss 2813.8129\n",
      "Iteration 710 : Loss 2813.8065\n",
      "Iteration 720 : Loss 2813.8000\n",
      "Iteration 730 : Loss 2813.7936\n",
      "Iteration 740 : Loss 2813.7872\n",
      "Iteration 750 : Loss 2813.7807\n",
      "Iteration 760 : Loss 2813.7743\n",
      "Iteration 770 : Loss 2813.7679\n",
      "Iteration 780 : Loss 2813.7614\n",
      "Iteration 790 : Loss 2813.7550\n",
      "Iteration 800 : Loss 2813.7486\n",
      "Iteration 810 : Loss 2813.7421\n",
      "Iteration 820 : Loss 2813.7357\n",
      "Iteration 830 : Loss 2813.7293\n",
      "Iteration 840 : Loss 2813.7229\n",
      "Iteration 850 : Loss 2813.7164\n",
      "Iteration 860 : Loss 2813.7100\n",
      "Iteration 870 : Loss 2813.7036\n",
      "Iteration 880 : Loss 2813.6972\n",
      "Iteration 890 : Loss 2813.6908\n",
      "Iteration 900 : Loss 2813.6844\n",
      "Iteration 910 : Loss 2813.6779\n",
      "Iteration 920 : Loss 2813.6715\n",
      "Iteration 930 : Loss 2813.6651\n",
      "Iteration 940 : Loss 2813.6587\n",
      "Iteration 950 : Loss 2813.6523\n",
      "Iteration 960 : Loss 2813.6459\n",
      "Iteration 970 : Loss 2813.6395\n",
      "Iteration 980 : Loss 2813.6331\n",
      "Iteration 990 : Loss 2813.6267\n",
      "Iteration 1000 : Loss 2813.6203\n"
     ]
    }
   ],
   "source": [
    "LEARNING_RATE = 1e-2\n",
    "losses = []\n",
    "for i in range(1, 1001):\n",
    "    dW, db = gradient(X_train, W, b, y_train)\n",
    "    W -= LEARNING_RATE * dW\n",
    "    b -= LEARNING_RATE * db\n",
    "    L = loss(X_train, W, b, y_train)\n",
    "    losses.append(L)\n",
    "    if i % 10 == 0:\n",
    "        print('Iteration %d : Loss %0.4f' % (i, L))"
   ]
  },
  {
   "cell_type": "markdown",
   "metadata": {},
   "source": [
    "learning rate를 최적화 시켜봐도 위처럼 Loss를 2813 선에서 맞추는게 최선인 듯 하다.  \n",
    "여기서 test data의 loss값을 구해보자"
   ]
  },
  {
   "cell_type": "code",
   "execution_count": null,
   "metadata": {},
   "outputs": [],
   "source": []
  },
  {
   "cell_type": "code",
   "execution_count": 46,
   "metadata": {},
   "outputs": [
    {
     "data": {
      "text/plain": [
       "3144.8846574360236"
      ]
     },
     "execution_count": 46,
     "metadata": {},
     "output_type": "execute_result"
    }
   ],
   "source": [
    "\n",
    "loss(X_test, W, b, y_test)"
   ]
  },
  {
   "cell_type": "markdown",
   "metadata": {},
   "source": [
    "x축에는 X 데이터의 첫 번째 컬럼인 age가 정규화된 값을, y축에는 정답인 target값과 모델이 예측한 값을 넣어서 비교하였다"
   ]
  },
  {
   "cell_type": "code",
   "execution_count": 47,
   "metadata": {},
   "outputs": [
    {
     "data": {
      "text/plain": [
       "<function matplotlib.pyplot.show(close=None, block=None)>"
      ]
     },
     "execution_count": 47,
     "metadata": {},
     "output_type": "execute_result"
    },
    {
     "data": {
      "image/png": "[encoded data removed]",
      "text/plain": [
       "<Figure size 432x288 with 1 Axes>"
      ]
     },
     "metadata": {
      "needs_background": "light"
     },
     "output_type": "display_data"
    }
   ],
   "source": [
    "import matplotlib.pyplot as plt\n",
    "\n",
    "plt.scatter(X_test[:, 0], y_test, label=\"true\")\n",
    "plt.scatter(X_test[:, 0], model(X_test, W, b), label='pred')\n",
    "plt.legend()\n",
    "plt.show"
   ]
  },
  {
   "cell_type": "markdown",
   "metadata": {},
   "source": [
    "train 데이터셋도 어떻게 훈련되었는지 확인해 보았다"
   ]
  },
  {
   "cell_type": "code",
   "execution_count": 48,
   "metadata": {},
   "outputs": [
    {
     "data": {
      "text/plain": [
       "<function matplotlib.pyplot.show(close=None, block=None)>"
      ]
     },
     "execution_count": 48,
     "metadata": {},
     "output_type": "execute_result"
    },
    {
     "data": {
      "image/png": "[encoded data removed]",
      "text/plain": [
       "<Figure size 432x288 with 1 Axes>"
      ]
     },
     "metadata": {
      "needs_background": "light"
     },
     "output_type": "display_data"
    }
   ],
   "source": [
    "plt.scatter(X_train[:, 0], y_train, label=\"true\")\n",
    "plt.scatter(X_train[:, 0], model(X_train, W, b), label='pred')\n",
    "plt.legend()\n",
    "plt.show"
   ]
  },
  {
   "cell_type": "code",
   "execution_count": null,
   "metadata": {},
   "outputs": [],
   "source": []
  }
 ],
 "metadata": {
  "kernelspec": {
   "display_name": "Python 3.9.12 ('aiffel')",
   "language": "python",
   "name": "python3"
  },
  "language_info": {
   "codemirror_mode": {
    "name": "ipython",
    "version": 3
   },
   "file_extension": ".py",
   "mimetype": "text/x-python",
   "name": "python",
   "nbconvert_exporter": "python",
   "pygments_lexer": "ipython3",
   "version": "3.9.12"
  },
  "orig_nbformat": 4,
  "vscode": {
   "interpreter": {
    "hash": "d04cf1ca0acd4bcd15114718f1ef1bc97f78c22610f01c01cb598617fec2656c"
   }
  }
 },
 "nbformat": 4,
 "nbformat_minor": 2
}
