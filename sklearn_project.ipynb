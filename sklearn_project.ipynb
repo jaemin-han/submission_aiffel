{
 "cells": [
  {
   "cell_type": "markdown",
   "metadata": {},
   "source": [
    "# 😡손글씨, 와인, 유방암 데이터 사용해서 학습하기"
   ]
  },
  {
   "cell_type": "code",
   "execution_count": 2,
   "metadata": {},
   "outputs": [
    {
     "name": "stdout",
     "output_type": "stream",
     "text": [
      "['DESCR', 'data', 'feature_names', 'frame', 'target', 'target_names']\n"
     ]
    }
   ],
   "source": [
    "from sklearn.datasets import load_wine\n",
    "\n",
    "wine = load_wine()\n",
    "print(dir(wine))"
   ]
  },
  {
   "cell_type": "code",
   "execution_count": 14,
   "metadata": {},
   "outputs": [
    {
     "name": "stdout",
     "output_type": "stream",
     "text": [
      "['DESCR', 'data', 'data_module', 'feature_names', 'filename', 'frame', 'target', 'target_names']\n"
     ]
    }
   ],
   "source": [
    "from sklearn.datasets import load_breast_cancer\n",
    "\n",
    "cancer = load_breast_cancer()\n",
    "print(dir(cancer))"
   ]
  },
  {
   "cell_type": "code",
   "execution_count": 23,
   "metadata": {},
   "outputs": [],
   "source": [
    "# (1) 필요한 모듈 import\n",
    "import numpy as np\n",
    "from sklearn.datasets import load_iris, load_digits, load_wine, load_breast_cancer\n",
    "\n",
    "from sklearn.model_selection import train_test_split\n",
    "from sklearn.tree import DecisionTreeClassifier\n",
    "from sklearn.ensemble import RandomForestClassifier\n",
    "from sklearn.svm import SVC\n",
    "from sklearn.linear_model import SGDClassifier, LogisticRegression\n",
    "\n",
    "from sklearn.metrics import classification_report\n",
    "from sklearn.metrics import confusion_matrix\n",
    "from sklearn.metrics import accuracy_score\n",
    "\n",
    "import numpy as np"
   ]
  },
  {
   "cell_type": "code",
   "execution_count": 63,
   "metadata": {},
   "outputs": [],
   "source": [
    "def check_point(ld_fc, test_size = 0.2, random_state=7):\n",
    "    data = ld_fc().data\n",
    "    label = ld_fc().target\n",
    "    \n",
    "    X_train, X_test, y_train, y_test = train_test_split(data,\n",
    "     label,\n",
    "      test_size=test_size,\n",
    "      random_state=random_state)\n",
    "\n",
    "    fit_fc = [DecisionTreeClassifier,\n",
    "     RandomForestClassifier,\n",
    "      SVC,\n",
    "       SGDClassifier,\n",
    "        LogisticRegression]    \n",
    "        \n",
    "    recall = []\n",
    "    accuracy = []\n",
    "\n",
    "    # for fc in fit_fc:\n",
    "    #     model = fc(random_state = random_state)\n",
    "    #     model.fit(X_train, y_train)\n",
    "    #     y_pred = model.predict(X_test)\n",
    "    #     array = confusion_matrix(y_test, y_pred)\n",
    "    #     print(array)\n",
    "    #     accuracy.append(np.trace(array) / np.sum(array))\n",
    "    #     recall.append(array[0][0] / (array[0][0] + array[1][0]))\n",
    "\n",
    "    for i, fc in enumerate(fit_fc):\n",
    "        model = fc(random_state = random_state)\n",
    "        model.fit(X_train, y_train)\n",
    "        y_pred = model.predict(X_test)\n",
    "        c_m = confusion_matrix(y_test, y_pred)\n",
    "        accuracy.append(np.trace(c_m) / np.sum(c_m))\n",
    "        recall.append(c_m[0][0] / (c_m[0][0] + c_m[1][0]))\n",
    "        print(i + 1, \"th accuracy is\", accuracy[i])\n",
    "        print(i + 1, \"th recall is  \", recall[i])\n",
    "\n",
    "    return accuracy, recall\n",
    "    \n",
    "    "
   ]
  },
  {
   "cell_type": "markdown",
   "metadata": {},
   "source": [
    "[confusion_matrix](https://scikit-learn.org/stable/modules/generated/sklearn.metrics.confusion_matrix.html)\n",
    "\n",
    "위 링크에 따르면 c10은 false negative  \n",
    "c01 은 false positive 이다.\n",
    "암 진단의 경우 true positive / (true positive + false negative)  \n",
    "인 recall 값이 중요하다"
   ]
  },
  {
   "cell_type": "code",
   "execution_count": 69,
   "metadata": {},
   "outputs": [
    {
     "name": "stdout",
     "output_type": "stream",
     "text": [
      "1 th accuracy is 0.9122807017543859\n",
      "1 th recall is   0.9166666666666666\n",
      "2 th accuracy is 0.9736842105263158\n",
      "2 th recall is   1.0\n",
      "3 th accuracy is 0.9035087719298246\n",
      "3 th recall is   1.0\n",
      "4 th accuracy is 0.7280701754385965\n",
      "4 th recall is   0.5633802816901409\n",
      "5 th accuracy is 0.9385964912280702\n",
      "5 th recall is   1.0\n"
     ]
    },
    {
     "name": "stderr",
     "output_type": "stream",
     "text": [
      "/Users/hanjaemin/Desktop/hello/.venv/lib/python3.10/site-packages/sklearn/linear_model/_logistic.py:444: ConvergenceWarning: lbfgs failed to converge (status=1):\n",
      "STOP: TOTAL NO. of ITERATIONS REACHED LIMIT.\n",
      "\n",
      "Increase the number of iterations (max_iter) or scale the data as shown in:\n",
      "    https://scikit-learn.org/stable/modules/preprocessing.html\n",
      "Please also refer to the documentation for alternative solver options:\n",
      "    https://scikit-learn.org/stable/modules/linear_model.html#logistic-regression\n",
      "  n_iter_i = _check_optimize_result(\n"
     ]
    },
    {
     "data": {
      "text/plain": [
       "([0.9122807017543859,\n",
       "  0.9736842105263158,\n",
       "  0.9035087719298246,\n",
       "  0.7280701754385965,\n",
       "  0.9385964912280702],\n",
       " [0.9166666666666666, 1.0, 1.0, 0.5633802816901409, 1.0])"
      ]
     },
     "execution_count": 69,
     "metadata": {},
     "output_type": "execute_result"
    }
   ],
   "source": [
    "check_point(load_breast_cancer, test_size=0.2, random_state=7)"
   ]
  },
  {
   "cell_type": "code",
   "execution_count": null,
   "metadata": {},
   "outputs": [],
   "source": []
  }
 ],
 "metadata": {
  "kernelspec": {
   "display_name": "Python 3.10.5 ('.venv': venv)",
   "language": "python",
   "name": "python3"
  },
  "language_info": {
   "codemirror_mode": {
    "name": "ipython",
    "version": 3
   },
   "file_extension": ".py",
   "mimetype": "text/x-python",
   "name": "python",
   "nbconvert_exporter": "python",
   "pygments_lexer": "ipython3",
   "version": "3.10.5"
  },
  "orig_nbformat": 4,
  "vscode": {
   "interpreter": {
    "hash": "362a14a9f8381446e1f5bf88ebc9a4865efcd20a1f856204441621f0b667dfc6"
   }
  }
 },
 "nbformat": 4,
 "nbformat_minor": 2
}
